{
 "cells": [
  {
   "cell_type": "code",
   "execution_count": 1,
   "metadata": {},
   "outputs": [],
   "source": [
    "class Node:\n",
    "    def __init__(self, val):\n",
    "        self.left = None\n",
    "        self.right = None\n",
    "        self.val = val"
   ]
  },
  {
   "cell_type": "code",
   "execution_count": 2,
   "metadata": {},
   "outputs": [],
   "source": [
    "import random"
   ]
  },
  {
   "cell_type": "code",
   "execution_count": 5,
   "metadata": {},
   "outputs": [
    {
     "data": {
      "text/plain": [
       "57"
      ]
     },
     "execution_count": 5,
     "metadata": {},
     "output_type": "execute_result"
    }
   ],
   "source": [
    "random.randint(0,90)"
   ]
  },
  {
   "cell_type": "code",
   "execution_count": 6,
   "metadata": {},
   "outputs": [],
   "source": [
    "# Establish the initial root node and children\n",
    "root = Node(random.randint(0,100))\n",
    "root.left = Node(random.randint(0,100))\n",
    "root.right = Node(random.randint(0,100))"
   ]
  },
  {
   "cell_type": "code",
   "execution_count": 7,
   "metadata": {},
   "outputs": [],
   "source": [
    "#3rd level\n",
    "root.left.left = Node(random.randint(0,100))\n",
    "root.left.right = Node(random.randint(0,100))\n",
    "root.right.left = Node(random.randint(0,100))\n",
    "root.right.right = Node(random.randint(0,100))"
   ]
  },
  {
   "cell_type": "code",
   "execution_count": 8,
   "metadata": {},
   "outputs": [],
   "source": [
    "#4th level\n",
    "root.left.left.left = Node(random.randint(0,100))\n",
    "root.left.left.right = Node(random.randint(0,100))\n",
    "root.left.right.left = Node(random.randint(0,100))\n",
    "root.left.right.right = Node(random.randint(0,100))\n",
    "root.right.left.left = Node(random.randint(0,100))\n",
    "root.right.left.right = Node(random.randint(0,100))\n",
    "root.right.right.left = Node(random.randint(0,100))\n",
    "root.right.right.right = Node(random.randint(0,100))"
   ]
  },
  {
   "cell_type": "code",
   "execution_count": 11,
   "metadata": {},
   "outputs": [
    {
     "data": {
      "text/plain": [
       "42"
      ]
     },
     "execution_count": 11,
     "metadata": {},
     "output_type": "execute_result"
    }
   ],
   "source": [
    "root.val"
   ]
  },
  {
   "cell_type": "code",
   "execution_count": 16,
   "metadata": {},
   "outputs": [],
   "source": [
    "i = 1\n",
    "layer = 1\n",
    "layer1 = []\n",
    "layer2 = []\n",
    "layer3 = []\n",
    "layer4 = []\n",
    "for i in range(1,5):\n",
    "    if layer==1:\n",
    "        layer1.append(root.val)\n",
    "        layer = 2\n",
    "    elif layer==2:\n",
    "        layer2.append([root.left.val,root.right.val])\n",
    "        layer = 3\n",
    "    elif layer==3:\n",
    "        layer3.extend([root.left.left.val,root.left.right.val,root.right.left.val,root.right.right.val])\n",
    "        layer = 4\n",
    "    elif layer==4:\n",
    "        layer4.extend([root.left.left.left.val,root.left.left.right.val,\n",
    "                      root.left.right.left.val,root.left.right.right.val,\n",
    "                      root.right.left.left.val,root.right.left.right.val,\n",
    "                      root.right.right.left.val,root.right.right.right.val])"
   ]
  },
  {
   "cell_type": "code",
   "execution_count": 19,
   "metadata": {},
   "outputs": [
    {
     "name": "stdout",
     "output_type": "stream",
     "text": [
      "[42]\n",
      "[[9, 87]]\n",
      "[54, 77, 19, 61]\n",
      "[26, 6, 15, 1, 4, 55, 53, 44]\n"
     ]
    }
   ],
   "source": [
    "print(layer1)\n",
    "print(layer2)\n",
    "print(layer3)\n",
    "print(layer4)"
   ]
  },
  {
   "cell_type": "code",
   "execution_count": null,
   "metadata": {},
   "outputs": [],
   "source": []
  }
 ],
 "metadata": {
  "kernelspec": {
   "display_name": "Python 3",
   "language": "python",
   "name": "python3"
  },
  "language_info": {
   "codemirror_mode": {
    "name": "ipython",
    "version": 3
   },
   "file_extension": ".py",
   "mimetype": "text/x-python",
   "name": "python",
   "nbconvert_exporter": "python",
   "pygments_lexer": "ipython3",
   "version": "3.7.2"
  }
 },
 "nbformat": 4,
 "nbformat_minor": 2
}
